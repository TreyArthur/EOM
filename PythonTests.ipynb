{
 "cells": [
  {
   "cell_type": "code",
   "execution_count": 5,
   "id": "aa8ecadb-3e1c-4f0c-9553-6cc8dc055869",
   "metadata": {},
   "outputs": [],
   "source": [
    "# No longer used.  IC cases are now directly input into the notebook.\n",
    "import xml.etree.ElementTree as ET\n",
    "\n",
    "def LoadIc(icFile):\n",
    "    icAll = []\n",
    "    root = ET.parse(icFile).getroot()\n",
    "    print(root.tag)\n",
    "    caseNum = 0\n",
    "    for icCase in root:\n",
    "        ic = {}\n",
    "        print(\"-----------------------\")\n",
    "        print(\"case: \", caseNum, icCase.tag, icCase.attrib)\n",
    "        caseNum += 1\n",
    "        for data in icCase:\n",
    "            units = data.get('units')\n",
    "            print(\"  \", data.get('name'), data.text, data.get('units'))\n",
    "            value = float(data.text)\n",
    "            #if units == \"deg\" or units == \"deg_s\":\n",
    "            #    value = math.radians(value)\n",
    "            ic[data.get('name')] = value\n",
    "            #ic[data.get('name')] = gvConvert.ToSI(value, data.get('units'))\n",
    "        icAll.append(ic)\n",
    "    return icAll"
   ]
  },
  {
   "cell_type": "code",
   "execution_count": 6,
   "id": "4a350b2a-7d04-42b7-b837-bde6e15af000",
   "metadata": {},
   "outputs": [
    {
     "name": "stdout",
     "output_type": "stream",
     "text": [
      "initialConditions\n",
      "-----------------------\n",
      "case:  0 ic {'name': 'Fire 300 m/s'}\n",
      "   grossWeight 245.0 N\n",
      "   bodyXXMomentOfInertia 0.1 kgm2\n",
      "   bodyYYMomentOfInertia 0.1 kgm2\n",
      "   bodyZZMomentOfInertia 0.1 kgm2\n",
      "   bodyXYMomentOfInertia 0.0 kgm2\n",
      "   bodyXZMomentOfInertia 0.0 kgm2\n",
      "   bodyYZMomentOfInertia 0.0 kgm2\n",
      "   latitude 0 rad\n",
      "   longitude 0 rad\n",
      "   altitude 10.0 m\n",
      "   referenceWingArea 0.031415 m2\n",
      "   trueAirspeed 424.264 m_s\n",
      "   angleOfAttack -45.0 deg\n",
      "   angleOfSideslip 0.0 deg\n",
      "   rollEulerAngle 0.0 deg\n",
      "   pitchEulerAngle 0.0 deg\n",
      "   yawEulerAngle 0.0 deg\n",
      "   rollBodyRate 0.0 rad_s\n",
      "   pitchBodyRate 0.0 rad_s\n",
      "   yawBodyRate 0.0 rad_s\n",
      "   XBodyPositionOfCG 0.25 nd\n",
      "-----------------------\n",
      "case:  1 ic {'name': 'Spin'}\n",
      "   grossWeight 245.0 N\n",
      "   bodyXXMomentOfInertia 0.1 kgm2\n",
      "   bodyYYMomentOfInertia 0.1 kgm2\n",
      "   bodyZZMomentOfInertia 0.1 kgm2\n",
      "   bodyXYMomentOfInertia 0.0 kgm2\n",
      "   bodyXZMomentOfInertia 0.0 kgm2\n",
      "   bodyYZMomentOfInertia 0.0 kgm2\n",
      "   latitude 37.26765 deg\n",
      "   longitude -76.753906 deg\n",
      "   altitude 10.0 m\n",
      "   referenceWingArea 0.031415 m2\n",
      "   trueAirspeed 0.0 m_s\n",
      "   angleOfAttack 0.0 deg\n",
      "   angleOfSideslip 0.0 deg\n",
      "   rollEulerAngle 0.0 deg\n",
      "   pitchEulerAngle 0.0 deg\n",
      "   yawEulerAngle 0.0 deg\n",
      "   rollBodyRate 0.0 rad_s\n",
      "   pitchBodyRate 0.1 rad_s\n",
      "   yawBodyRate 0.0 rad_s\n",
      "   XBodyPositionOfCG 0.25 nd\n",
      "====================\n",
      "[{'grossWeight': 245.0, 'bodyXXMomentOfInertia': 0.1, 'bodyYYMomentOfInertia': 0.1, 'bodyZZMomentOfInertia': 0.1, 'bodyXYMomentOfInertia': 0.0, 'bodyXZMomentOfInertia': 0.0, 'bodyYZMomentOfInertia': 0.0, 'latitude': 0.0, 'longitude': 0.0, 'altitude': 10.0, 'referenceWingArea': 0.031415, 'trueAirspeed': 424.264, 'angleOfAttack': -45.0, 'angleOfSideslip': 0.0, 'rollEulerAngle': 0.0, 'pitchEulerAngle': 0.0, 'yawEulerAngle': 0.0, 'rollBodyRate': 0.0, 'pitchBodyRate': 0.0, 'yawBodyRate': 0.0, 'XBodyPositionOfCG': 0.25}, {'grossWeight': 245.0, 'bodyXXMomentOfInertia': 0.1, 'bodyYYMomentOfInertia': 0.1, 'bodyZZMomentOfInertia': 0.1, 'bodyXYMomentOfInertia': 0.0, 'bodyXZMomentOfInertia': 0.0, 'bodyYZMomentOfInertia': 0.0, 'latitude': 37.26765, 'longitude': -76.753906, 'altitude': 10.0, 'referenceWingArea': 0.031415, 'trueAirspeed': 0.0, 'angleOfAttack': 0.0, 'angleOfSideslip': 0.0, 'rollEulerAngle': 0.0, 'pitchEulerAngle': 0.0, 'yawEulerAngle': 0.0, 'rollBodyRate': 0.0, 'pitchBodyRate': 0.1, 'yawBodyRate': 0.0, 'XBodyPositionOfCG': 0.25}]\n",
      "====================\n",
      "{'grossWeight': 245.0, 'bodyXXMomentOfInertia': 0.1, 'bodyYYMomentOfInertia': 0.1, 'bodyZZMomentOfInertia': 0.1, 'bodyXYMomentOfInertia': 0.0, 'bodyXZMomentOfInertia': 0.0, 'bodyYZMomentOfInertia': 0.0, 'latitude': 0.0, 'longitude': 0.0, 'altitude': 10.0, 'referenceWingArea': 0.031415, 'trueAirspeed': 424.264, 'angleOfAttack': -45.0, 'angleOfSideslip': 0.0, 'rollEulerAngle': 0.0, 'pitchEulerAngle': 0.0, 'yawEulerAngle': 0.0, 'rollBodyRate': 0.0, 'pitchBodyRate': 0.0, 'yawBodyRate': 0.0, 'XBodyPositionOfCG': 0.25}\n"
     ]
    }
   ],
   "source": [
    "icList = LoadIc('models/cannonballNoAero/cannonballNoAero.ic')\n",
    "print(\"====================\")\n",
    "print(icList)\n",
    "gvInitialCondition = icList[0]\n",
    "print(\"====================\")\n",
    "print(gvInitialCondition)"
   ]
  },
  {
   "cell_type": "markdown",
   "id": "80b5347d-9e5e-446e-9618-9e670ee0240c",
   "metadata": {},
   "source": [
    "### Frechet Distance\n",
    "\n",
    "Frechet distance is a measure of simularity of two curves.  The reference is [here](https://pypi.org/project/frechetdist/)"
   ]
  },
  {
   "cell_type": "code",
   "execution_count": 7,
   "id": "d3ede3a1-75a4-4745-9236-043419bd33dd",
   "metadata": {},
   "outputs": [],
   "source": [
    "#!/usr/bin/env python\n",
    "# -*- coding: utf-8 -*-\n",
    "\n",
    "import numpy as np\n",
    "\n",
    "__all__ = ['frdist']\n",
    "\n",
    "\n",
    "def _c(ca, i, j, p, q):\n",
    "\n",
    "    if ca[i, j] > -1:\n",
    "        return ca[i, j]\n",
    "    elif i == 0 and j == 0:\n",
    "        ca[i, j] = np.linalg.norm(p[i]-q[j])\n",
    "    elif i > 0 and j == 0:\n",
    "        ca[i, j] = max(_c(ca, i-1, 0, p, q), np.linalg.norm(p[i]-q[j]))\n",
    "    elif i == 0 and j > 0:\n",
    "        ca[i, j] = max(_c(ca, 0, j-1, p, q), np.linalg.norm(p[i]-q[j]))\n",
    "    elif i > 0 and j > 0:\n",
    "        ca[i, j] = max(\n",
    "            min(\n",
    "                _c(ca, i-1, j, p, q),\n",
    "                _c(ca, i-1, j-1, p, q),\n",
    "                _c(ca, i, j-1, p, q)\n",
    "            ),\n",
    "            np.linalg.norm(p[i]-q[j])\n",
    "            )\n",
    "    else:\n",
    "        ca[i, j] = float('inf')\n",
    "\n",
    "    return ca[i, j]\n",
    "\n",
    "\n",
    "def frdist(p, q):\n",
    "    \"\"\"\n",
    "    Computes the discrete Fréchet distance between\n",
    "    two curves. The Fréchet distance between two curves in a\n",
    "    metric space is a measure of the similarity between the curves.\n",
    "    The discrete Fréchet distance may be used for approximately computing\n",
    "    the Fréchet distance between two arbitrary curves,\n",
    "    as an alternative to using the exact Fréchet distance between a polygonal\n",
    "    approximation of the curves or an approximation of this value.\n",
    "    This is a Python 3.* implementation of the algorithm produced\n",
    "    in Eiter, T. and Mannila, H., 1994. Computing discrete Fréchet distance.\n",
    "    Tech. Report CD-TR 94/64, Information Systems Department, Technical\n",
    "    University of Vienna.\n",
    "    http://www.kr.tuwien.ac.at/staff/eiter/et-archive/cdtr9464.pdf\n",
    "    Function dF(P, Q): real;\n",
    "        input: polygonal curves P = (u1, . . . , up) and Q = (v1, . . . , vq).\n",
    "        return: δdF (P, Q)\n",
    "        ca : array [1..p, 1..q] of real;\n",
    "        function c(i, j): real;\n",
    "            begin\n",
    "                if ca(i, j) > −1 then return ca(i, j)\n",
    "                elsif i = 1 and j = 1 then ca(i, j) := d(u1, v1)\n",
    "                elsif i > 1 and j = 1 then ca(i, j) := max{ c(i − 1, 1), d(ui, v1) }\n",
    "                elsif i = 1 and j > 1 then ca(i, j) := max{ c(1, j − 1), d(u1, vj) }\n",
    "                elsif i > 1 and j > 1 then ca(i, j) :=\n",
    "                max{ min(c(i − 1, j), c(i − 1, j − 1), c(i, j − 1)), d(ui, vj ) }\n",
    "                else ca(i, j) = ∞\n",
    "                return ca(i, j);\n",
    "            end; /* function c */\n",
    "        begin\n",
    "            for i = 1 to p do for j = 1 to q do ca(i, j) := −1.0;\n",
    "            return c(p, q);\n",
    "        end.\n",
    "    Parameters\n",
    "    ----------\n",
    "    P : Input curve - two dimensional array of points\n",
    "    Q : Input curve - two dimensional array of points\n",
    "    Returns\n",
    "    -------\n",
    "    dist: float64\n",
    "        The discrete Fréchet distance between curves `P` and `Q`.\n",
    "    Examples\n",
    "    --------\n",
    "    >>> from frechetdist import frdist\n",
    "    >>> P=[[1,1], [2,1], [2,2]]\n",
    "    >>> Q=[[2,2], [0,1], [2,4]]\n",
    "    >>> frdist(P,Q)\n",
    "    >>> 2.0\n",
    "    >>> P=[[1,1], [2,1], [2,2]]\n",
    "    >>> Q=[[1,1], [2,1], [2,2]]\n",
    "    >>> frdist(P,Q)\n",
    "    >>> 0\n",
    "    \"\"\"\n",
    "    p = np.array(p, np.float64)\n",
    "    q = np.array(q, np.float64)\n",
    "\n",
    "    len_p = len(p)\n",
    "    len_q = len(q)\n",
    "\n",
    "    if len_p == 0 or len_q == 0:\n",
    "        raise ValueError('Input curves are empty.')\n",
    "\n",
    "    if len_p != len_q or len(p[0]) != len(q[0]):\n",
    "        raise ValueError('Input curves do not have the same dimensions.')\n",
    "\n",
    "    ca = (np.ones((len_p, len_q), dtype=np.float64) * -1)\n",
    "\n",
    "    dist = _c(ca, len_p-1, len_q-1, p, q)\n",
    "    return dist"
   ]
  },
  {
   "cell_type": "code",
   "execution_count": 8,
   "id": "1dce97c5-70da-4e45-840a-9e68249d7ea7",
   "metadata": {},
   "outputs": [],
   "source": [
    "def Frechet(x1, y1, x2, y2):\n",
    "    P = []\n",
    "    Q = []\n",
    "    for (x,y) in zip(x1,y1):\n",
    "        P.append([x,y])\n",
    "        \n",
    "    for (x,y) in zip(x2,y2):\n",
    "        Q.append([x,y])\n",
    "        \n",
    "    return frdist(P,Q)"
   ]
  },
  {
   "cell_type": "code",
   "execution_count": 10,
   "id": "1ed1133b-75e8-425b-baea-b70c90715704",
   "metadata": {},
   "outputs": [
    {
     "name": "stdout",
     "output_type": "stream",
     "text": [
      "0.81\n"
     ]
    },
    {
     "data": {
      "image/png": "[encoded data removed]",
      "text/plain": [
       "<Figure size 432x288 with 1 Axes>"
      ]
     },
     "metadata": {
      "needs_background": "light"
     },
     "output_type": "display_data"
    }
   ],
   "source": [
    "import matplotlib.pyplot as plt\n",
    "\n",
    "t1 = [0, 1., 2., 3., 4., 5.]\n",
    "y1 = [  1,   2,   3,   4,   5, 6]\n",
    "y3 = [1.1, 2.3, 3.4, 3.19, 4.7, 6.4]\n",
    "\n",
    "t2 = [  0, 0.5,   1, 1.5,   2, 2.5,   3, 3.5,   4, 4.5, 5]\n",
    "y2 = [1.2, 1.7, 1.9, 2.8, 2.8, 3.4, 4.3, 4.3, 4.8, 5.8, 6.3]\n",
    "\n",
    "fig0, ah = plt.subplots()\n",
    "ah.plot(t1, y1,'g',t1,y3,'b')\n",
    "ah.legend([\"set1\",\"set2\"])\n",
    "ah.set(xlabel='time (s)', ylabel='data', title='Frechet Distance Test')\n",
    "ah.grid()\n",
    "\n",
    "print(Frechet(t1,y1,t1,y3))"
   ]
  },
  {
   "cell_type": "code",
   "execution_count": 11,
   "id": "f0895b97-4ebd-4c85-a5be-e3bffed59eb3",
   "metadata": {},
   "outputs": [
    {
     "name": "stdout",
     "output_type": "stream",
     "text": [
      "ec:  0.5\n",
      "ec:  -10\n"
     ]
    }
   ],
   "source": [
    "CBAR = 2.0\n",
    "QB = 5.0\n",
    "VRW = 10.0\n",
    "myData = {}\n",
    "myData[\"CBAR\"] = 2.0\n",
    "# equation: (CBAR * QB) / (2.0 * VRW)\n",
    "code = compile(\"(myData[\\\"CBAR\\\"] * QB) / (2.0 * VRW)\", \"<string>\", \"eval\")\n",
    "ec = eval(code)\n",
    "print(\"ec: \", ec)  # should return 0.5\n",
    "\n",
    "myData[\"beta\"] = -5\n",
    "code2 = compile(\"-10 if myData[\\\"beta\\\"] < 0 else 10\", \"<string>\",\"eval\")\n",
    "ec = eval(code2)\n",
    "print(\"ec: \", ec)"
   ]
  },
  {
   "cell_type": "code",
   "execution_count": 12,
   "id": "8b808d3a-416d-45a5-87ec-f50aec132085",
   "metadata": {},
   "outputs": [
    {
     "name": "stdout",
     "output_type": "stream",
     "text": [
      "ec:  -0.9999999999964793\n"
     ]
    }
   ],
   "source": [
    "import math\n",
    "ec = eval(\"math.cos(3.14159)\")\n",
    "print(\"ec: \", ec)"
   ]
  },
  {
   "cell_type": "code",
   "execution_count": 13,
   "id": "4c926aab-378d-4505-822f-c24ffbfba41c",
   "metadata": {},
   "outputs": [
    {
     "name": "stdout",
     "output_type": "stream",
     "text": [
      "lData[cnp]:  64\n"
     ]
    }
   ],
   "source": [
    "lData = {}\n",
    "lData[\"cnp\"] = 0\n",
    "aa = 2\n",
    "ez = compile(\"x=4\\ny=8\\nz=aa*x*y\\nlData[\\\"cnp\\\"]=z\",\"<function>\",\"exec\")\n",
    "exec(ez)\n",
    "print(\"lData[cnp]: \", lData[\"cnp\"])"
   ]
  },
  {
   "cell_type": "code",
   "execution_count": 14,
   "id": "464de824-cc87-4400-bb20-300046706b2f",
   "metadata": {},
   "outputs": [
    {
     "name": "stdout",
     "output_type": "stream",
     "text": [
      "stack:  [0.0, 0.0, 1, 2, 3]\n",
      "stack:  [0.0, 1, 2, 3]\n",
      "stack:  [0.0, 1, 2, 3, 4]\n",
      "stack:  [1, 2, 3, 4, 12]\n",
      "stack 1:  2\n"
     ]
    }
   ],
   "source": [
    "def PopTest(lStack):\n",
    "    lStack.pop(0)\n",
    "    lStack.append(12)\n",
    "    \n",
    "stack = [0.0, 0.0]\n",
    "\n",
    "stack.append(1)\n",
    "stack.append(2)\n",
    "stack.append(3)\n",
    "\n",
    "print(\"stack: \", stack)\n",
    "\n",
    "stack.pop(0)\n",
    "\n",
    "print(\"stack: \", stack)\n",
    "\n",
    "stack.append(4)\n",
    "\n",
    "print(\"stack: \", stack)\n",
    "\n",
    "PopTest(stack)\n",
    "\n",
    "print(\"stack: \", stack)\n",
    "\n",
    "print(\"stack 1: \", stack[1])"
   ]
  },
  {
   "cell_type": "markdown",
   "id": "289a32ce-3df8-470e-b432-ee5be485d10f",
   "metadata": {},
   "source": [
    "Testing 4th order Runge-Kutta for 2 simultaneous equations.  Reference is [Numerical Analysis](https://books.google.com/books/about/Numerical_Methods.html?id=6K7KSAAACAAJ).\n",
    "\n",
    "The two differential equations:  \n",
    "$ I'_1 = f(t,I_1,I_2) = -4I_1 + 3I_2 + 6, I_1(0) = 0 $  \n",
    "$ I'_2 = f(t,I_1,I_2) = -2.4I_1 + 1.6I_2 + 3.6, I_2(0) = 0 $  \n",
    "\n",
    "t   | $I_1$     | $I_2$\n",
    "----|-----------|---------\n",
    "0.1 | 0.538255  | 0.3196263\n",
    "0.2 | 0.9684983 | 0.5687817\n",
    "0.3 | 1.310717  | 0.7607328\n",
    "0.4 | 1.581263  | 0.9063208\n",
    "0.5 | 1.793505  | 1.014402"
   ]
  },
  {
   "cell_type": "code",
   "execution_count": 15,
   "id": "1176fc56-858c-4bb8-8993-0d64cdf2d7be",
   "metadata": {},
   "outputs": [
    {
     "name": "stdout",
     "output_type": "stream",
     "text": [
      "t:  0.1  w11:  0.53826 pass  w21:  0.31963 pass\n",
      "t:  0.2  w11:  0.9685 pass  w21:  0.56878 pass\n",
      "t:  0.3  w11:  1.31072 pass  w21:  0.76073 pass\n",
      "t:  0.4  w11:  1.58127 pass  w21:  0.90632 pass\n",
      "t:  0.5  w11:  1.79351 pass  w21:  1.0144 pass\n"
     ]
    }
   ],
   "source": [
    "def I1p(arg):\n",
    "    return (-4.0*arg[0] + 3.0*arg[1] + 6)\n",
    "\n",
    "def I2p(arg):\n",
    "    return (-2.4*arg[0] + 1.6*arg[1] + 3.6)\n",
    "\n",
    "def RK4(h, Fdot, arg):\n",
    "    k1 = []\n",
    "    arg1 = []\n",
    "    for (a, f) in zip(arg, Fdot):\n",
    "        k = h*f(arg)\n",
    "        k1.append(k)\n",
    "        arg1.append(a + 0.5*k)\n",
    "        \n",
    "    k2 = []\n",
    "    arg2 = []\n",
    "    for (a, f) in zip(arg, Fdot):\n",
    "        k = h*f(arg1)\n",
    "        k2.append(k)\n",
    "        arg2.append(a + 0.5*k)\n",
    "    \n",
    "    k3 = []\n",
    "    arg3 = []\n",
    "    for (a, f) in zip(arg, Fdot):\n",
    "        k = h*f(arg2)\n",
    "        k3.append(k)\n",
    "        arg3.append(a + k)\n",
    "    \n",
    "    k4 = []\n",
    "    for f in Fdot:\n",
    "        k4.append( h*f(arg3))\n",
    "    \n",
    "    result = []\n",
    "    for (a, kc1, kc2, kc3, kc4) in zip(arg, k1, k2, k3, k4):\n",
    "        result.append(a + (kc1 + 2.0*kc2 + 2.0*kc3 + kc4) / 6.0)\n",
    "    \n",
    "    return result\n",
    "\n",
    "def CheckRK(calculated, actual):\n",
    "    answer = \"pass\"\n",
    "    if abs(calculated - actual) > 1e-4:\n",
    "        answer = \"!! FAILED !!\"\n",
    "        \n",
    "    return answer\n",
    "\n",
    "#----- Testing RK4 -------\n",
    "h = 0.1\n",
    "Xdot = [I1p, I2p]\n",
    "arg = [0, 0]\n",
    "T = [.1, .2, .3, .4, .5]\n",
    "I1 = [ 0.538255, 0.9684983,  1.310717,  1.581263, 1.793505]\n",
    "I2 = [0.3196263, 0.5687817, 0.7607328, 0.9063208, 1.014402]\n",
    "for (t,i1,i2) in zip(T,I1,I2):\n",
    "    wOut = RK4(h, Xdot, arg)\n",
    "    print(\"t: \", t, \" w11: \", round(wOut[0],5), CheckRK(wOut[0],i1), \n",
    "          \" w21: \", round(wOut[1],5), CheckRK(wOut[1],i2) )\n",
    "    arg = wOut"
   ]
  },
  {
   "cell_type": "code",
   "execution_count": 16,
   "id": "e4d7690c-887d-4a63-9d4d-fa61a5edd1d4",
   "metadata": {},
   "outputs": [
    {
     "name": "stdout",
     "output_type": "stream",
     "text": [
      "ϕ:  10.0 roll:  200.0\n"
     ]
    }
   ],
   "source": [
    "# type \\phi then <TAB> key\n",
    "ϕ = 10.\n",
    "\n",
    "roll = ϕ * 20\n",
    "print(\"ϕ: \", ϕ, \"roll: \", roll)"
   ]
  },
  {
   "cell_type": "code",
   "execution_count": 17,
   "id": "8ef09296-cfb6-45a4-b3a9-acabb2821d8f",
   "metadata": {},
   "outputs": [
    {
     "name": "stdout",
     "output_type": "stream",
     "text": [
      "x:  -1.5707963267948966\n",
      "x:  1.5707963267948966\n",
      "temperature:  30.0\n",
      "temperature:  0\n",
      "y:  10\n"
     ]
    }
   ],
   "source": [
    "# testing ternary 'a if condition else b'\n",
    "# value = (a < b) ? true : false;\n",
    "import math\n",
    "\n",
    "halfPi = 0.5*math.pi\n",
    "m13 = 4\n",
    "x = -halfPi if (m13 > 0.0) else halfPi\n",
    "print(\"x: \", x)\n",
    "\n",
    "m13 = -4\n",
    "x = -halfPi if (m13 > 0.0) else halfPi\n",
    "print(\"x: \", x)\n",
    "\n",
    "temperature = 30.0\n",
    "temperature = temperature if (temperature > 0.0) else 0\n",
    "print(\"temperature: \", temperature)\n",
    "\n",
    "temperature = -30.0\n",
    "temperature = temperature if (temperature > 0.0) else 0\n",
    "print(\"temperature: \", temperature)\n",
    "\n",
    "ALP_UNLIM = 20\n",
    "ALP_MAX_LIM = 10\n",
    "y = -2.0 if ALP_UNLIM < -2 else ALP_MAX_LIM if ALP_UNLIM > ALP_MAX_LIM else ALP_UNLIM\n",
    "print(\"y: \",y)"
   ]
  },
  {
   "cell_type": "code",
   "execution_count": 18,
   "id": "6d5fa562-9e16-4e01-874a-3786e196ddc0",
   "metadata": {},
   "outputs": [
    {
     "name": "stdout",
     "output_type": "stream",
     "text": [
      "[]\n",
      "[[1, 2, 3, 4], [5, 6, 7, 8, 9, 10]]\n",
      "2\n"
     ]
    }
   ],
   "source": [
    "# test doing a list of lists\n",
    "\n",
    "myVar = []\n",
    "print(myVar)\n",
    "myList1 = [1, 2, 3, 4]\n",
    "myList2 = [5, 6, 7, 8, 9, 10]\n",
    "myVar.append(myList1)\n",
    "myVar.append(myList2)\n",
    "print(myVar)\n",
    "print(len(myVar))"
   ]
  },
  {
   "cell_type": "code",
   "execution_count": 19,
   "id": "dd04865f-f3eb-4e11-8d8c-905437287ce1",
   "metadata": {},
   "outputs": [
    {
     "name": "stdout",
     "output_type": "stream",
     "text": [
      "roll_d:  [10, 11, 12]\n",
      "pitch_d:  [20, 30, 40]\n",
      "[[0.1, 10, 20], [0.2, 11, 30], [0.3, 12, 40]]\n",
      "myDictTest:  {}\n",
      "myDictTest:  {'time': [0.1, 0.2, 0.3], 'roll': [10, 11, 12], 'pitch': [20, 30, 40]}\n",
      "myDictTest:  {'time': [], 'roll': [], 'pitch': []}\n"
     ]
    }
   ],
   "source": [
    "# test if a dictionary can hold an array\n",
    "myDictTest = {'time': [.1, .2, .3], 'roll_d': [10, 11, 12]}\n",
    "\n",
    "print(\"roll_d: \", myDictTest['roll_d'])\n",
    "\n",
    "pitch = []\n",
    "pitch.append(20)\n",
    "pitch.append(30)\n",
    "pitch.append(40)\n",
    "myDictTest['pitch_d'] = pitch\n",
    "print(\"pitch_d: \", myDictTest['pitch_d'])\n",
    "\n",
    "header = ['time', 'roll', 'pitch']\n",
    "data = []\n",
    "data.append([.1, 10, 20])\n",
    "data.append([.2, 11, 30])\n",
    "data.append([.3, 12, 40])\n",
    "print(data)\n",
    "myDictTest.clear()\n",
    "print(\"myDictTest: \", myDictTest)\n",
    "\n",
    "myDictTest['time'] = [.1, .2, .3]\n",
    "myDictTest['roll'] = [10, 11, 12]\n",
    "myDictTest['pitch'] = [20, 30, 40]\n",
    "print(\"myDictTest: \", myDictTest)\n",
    "\n",
    "labels = ['time', 'roll', 'pitch']\n",
    "for l in labels:\n",
    "    myDictTest[l] = []\n",
    "print(\"myDictTest: \", myDictTest)\n"
   ]
  },
  {
   "cell_type": "code",
   "execution_count": 20,
   "id": "7ce016cc-ccd8-4c4c-9aeb-696bbf350983",
   "metadata": {},
   "outputs": [
    {
     "name": "stdout",
     "output_type": "stream",
     "text": [
      "30 29.999999999999996\n",
      "135 135.0\n",
      "-90 -90.0\n",
      "-90 -90.0\n",
      "-90 -90.0\n",
      "-90 -90.0\n",
      "175 175.0\n"
     ]
    }
   ],
   "source": [
    "def Angle180Test(angle):\n",
    "    twoPi = 2*math.pi\n",
    "    angle = angle / twoPi\n",
    "    a2Pi = (angle - math.floor(angle)) * twoPi\n",
    "    if a2Pi > math.pi:\n",
    "        a2Pi -= twoPi\n",
    "    return a2Pi\n",
    "    \n",
    "print( \"30\", math.degrees(Angle180Test(math.radians(30))) )\n",
    "print( \"135\", math.degrees(Angle180Test(math.radians(135))) )\n",
    "print( \"-90\", math.degrees(Angle180Test(math.radians(270))) )\n",
    "print( \"-90\", math.degrees(Angle180Test(math.radians(270+360))) )\n",
    "print( \"-90\", math.degrees(Angle180Test(math.radians(-90))) )\n",
    "print( \"-90\", math.degrees(Angle180Test(math.radians(-90-360))) )\n",
    "print( \"175\", math.degrees(Angle180Test(math.radians(-185))) )\n",
    "#print( Angle180Test(135) )"
   ]
  },
  {
   "cell_type": "code",
   "execution_count": 21,
   "id": "5e7dede6-130d-406e-ac1f-dc20818577f9",
   "metadata": {},
   "outputs": [
    {
     "name": "stdout",
     "output_type": "stream",
     "text": [
      "0.003352810664747481\n",
      "20\n"
     ]
    }
   ],
   "source": [
    "WGS84_A    = +6.37813700000000000000e+0006 # a\n",
    "WGS84_INVF = +2.98257223563000000000e+0002 # 1/f\n",
    "WGS84_F    = +3.35281066474748071998e-0003 # f \n",
    "\n",
    "print(WGS84_F)\n",
    "\n",
    "ded = 10\n",
    "ded = 2*ded\n",
    "print(ded)"
   ]
  },
  {
   "cell_type": "code",
   "execution_count": 22,
   "id": "16f6aff1-d259-457e-b735-dac4741ffe77",
   "metadata": {},
   "outputs": [
    {
     "name": "stdout",
     "output_type": "stream",
     "text": [
      "[1, 2, 3]\n"
     ]
    }
   ],
   "source": [
    "a = [1, 2, 3]\n",
    "b = a\n",
    "print(b)"
   ]
  },
  {
   "cell_type": "code",
   "execution_count": 23,
   "id": "5c21b456-7877-4410-862f-f5f397aae0a3",
   "metadata": {},
   "outputs": [
    {
     "name": "stdout",
     "output_type": "stream",
     "text": [
      "a is in td1\n",
      "d not in td1\n"
     ]
    }
   ],
   "source": [
    "# test keys in dictionary\n",
    "td1 = {\"a\": 1, \"b\": 2, \"c\": 3}\n",
    "\n",
    "if \"a\" in td1:\n",
    "    print(\"a is in td1\")\n",
    "    \n",
    "if \"d\" not in td1:\n",
    "    print(\"d not in td1\")"
   ]
  },
  {
   "cell_type": "markdown",
   "id": "1565d1eb-5602-47c6-baf1-904f59230f28",
   "metadata": {},
   "source": [
    "Create an initial condition (IC) dictionary.  The dictionary value is a list containing the IC value and units."
   ]
  },
  {
   "cell_type": "code",
   "execution_count": 24,
   "id": "1ea3e4a1-d1f8-4af7-8c57-ac6d1c8e6699",
   "metadata": {},
   "outputs": [
    {
     "name": "stdout",
     "output_type": "stream",
     "text": [
      "Vt= [23.1, 'ft_s']\n",
      "Vt= 23.1\n",
      "units= ft_s\n",
      "SI= 7.0408800000000005\n",
      "units= slug\n",
      "SI= 14.593902937\n"
     ]
    }
   ],
   "source": [
    "icTest = \\\n",
    "{\n",
    "    \"trueAirspeed\": [23.1, \"ft_s\"],\n",
    "    \"totalMass\": [1, \"slug\"]\n",
    "}\n",
    "\n",
    "print(\"Vt=\", icTest[\"trueAirspeed\"])\n",
    "print(\"Vt=\", icTest[\"trueAirspeed\"][0])\n",
    "\n",
    "feetToMeter = 0.3048\n",
    "slugToKg = 14.593902937\n",
    "englishToSI = {\n",
    "    \"slug\": slugToKg,\n",
    "    \"ft\": feetToMeter,\n",
    "    \"ft_s\": feetToMeter,\n",
    "    \"nd\": 1\n",
    "}\n",
    "\n",
    "icData = {}\n",
    "for key,value in icTest.items():\n",
    "    units = value[1].lower()\n",
    "    print(\"units=\", units)\n",
    "    factor = 1\n",
    "    if units in englishToSI:\n",
    "        factor = englishToSI[units]\n",
    "    v = factor * value[0]\n",
    "    print(\"SI=\", v)\n"
   ]
  },
  {
   "cell_type": "code",
   "execution_count": 25,
   "id": "92c493c6-2fc8-4a55-a11d-35767e7ad074",
   "metadata": {},
   "outputs": [
    {
     "name": "stdout",
     "output_type": "stream",
     "text": [
      "10.0\n",
      "-> 50.0\n",
      "13\n",
      "-> 13\n"
     ]
    }
   ],
   "source": [
    "sf1 = 5.0\n",
    "nsf = 1\n",
    "\n",
    "atd = {\n",
    "    \"tag1\": 10.0,\n",
    "    \"tag2\": 13\n",
    "}\n",
    "\n",
    "input = [\n",
    "    [\"tag1\", sf1],\n",
    "    [\"tag2\", nsf]\n",
    "]\n",
    "\n",
    "for v in input:\n",
    "    print(atd[v[0]])\n",
    "    val = atd[v[0]] * v[1]\n",
    "    print(\"->\",val)\n",
    "    #print(v[0], \":\", atd[v[0]] = atd[v[0]] * v[1]"
   ]
  },
  {
   "cell_type": "code",
   "execution_count": null,
   "id": "e279cd5e-67ef-41ce-bbf6-d0b7d858b147",
   "metadata": {},
   "outputs": [],
   "source": []
  }
 ],
 "metadata": {
  "kernelspec": {
   "display_name": "Python 3",
   "language": "python",
   "name": "python3"
  },
  "language_info": {
   "codemirror_mode": {
    "name": "ipython",
    "version": 3
   },
   "file_extension": ".py",
   "mimetype": "text/x-python",
   "name": "python",
   "nbconvert_exporter": "python",
   "pygments_lexer": "ipython3",
   "version": "3.9.5"
  }
 },
 "nbformat": 4,
 "nbformat_minor": 5
}
